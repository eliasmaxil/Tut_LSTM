{
 "cells": [
  {
   "cell_type": "markdown",
   "metadata": {},
   "source": [
    "# Re-framing time serias as supervised learning problems.\n",
    "\n",
    "From a sequence of pairs of input and output sequences. \n",
    "\n",
    "Supervised learning concept:   \n",
    "https://machinelearningmastery.com/time-series-forecasting-supervised-learning/\n",
    "\n",
    "Example:  \n",
    "https://machinelearningmastery.com/convert-time-series-supervised-learning-problem-python/\n"
   ]
  },
  {
   "cell_type": "code",
   "execution_count": 94,
   "metadata": {},
   "outputs": [],
   "source": [
    "import pandas as pd\n",
    "import numpy as np"
   ]
  },
  {
   "cell_type": "markdown",
   "metadata": {},
   "source": [
    "## Time series vs supervised learning (Concepts)\n",
    "\n",
    "**Time series:** A sequence of numbers ordered by a time index  \n",
    "\n",
    "**Supervised learning:** A supervised learning probles has input patterns (X) and output patterns or variables (y). We want to predict y with from X, and we use an algorithm to learn the mapping function.  \n",
    "\n",
    "Y = f(X)  \n",
    "\n",
    "**Categories of SL:** \n",
    "- Classification\n",
    "- Regression\n",
    "\n",
    "**Sliding window (Lag method):** The use of prior steps to predict the next step.\n",
    "\n",
    "**Window width:** The number of previous time steps \n",
    "\n",
    "**Univariate time series:** Only a single variable is observed at each time\n",
    "\n",
    "```\n",
    "# Univariate, two-step forecasting. Window width of 2\n",
    "X1,  y1,  y2\n",
    "?,   100, 110\n",
    "100, 110, 108\n",
    "110, 108, 115\n",
    "108, 115, 120\n",
    "115, 120, ?\n",
    "120, ?,    ?\n",
    "```\n",
    "\n",
    "**Multivariate time series:** Two or more variables observed at each time\n",
    "```\n",
    "# Multivariate\n",
    "X1,  X2, y1,  y2\n",
    "?,   ?,  0.2, 88\n",
    "0.2, 88, 0.5, 89\n",
    "0.5, 89, 0.7, 87\n",
    "0.7, 87, 0.4, 88\n",
    "0.4, 88, 1.0, 90\n",
    "1.0, 90, ?,    ?\n",
    "```"
   ]
  },
  {
   "cell_type": "markdown",
   "metadata": {},
   "source": [
    "## Convert a Time Series to Supervised Learning in Python\n",
    "\n",
    "Shift function. \n",
    "\n",
    "```\n",
    "df['t-1'] = df['t'].shift(1)        # Past observations\n",
    "df['Col+1'] = df['Col] .shift(-1)   # Forecasts (like in example above)\n",
    "```\n",
    "\n",
    "We use lagged observations (e.g. t-1) as input variables to forecast the current time step (t).\n",
    "\n",
    "\n",
    "### The `series_to_supervised()` Function\n",
    "\n",
    "#### Arguments & results\n",
    "\n",
    "* **data:** Sequence of observations as a list or 2D NumPy array. Required.\n",
    "* **n_in:** Number of lag observations as input (X). Values may be between [1..len(data)] Optional.\n",
    "* **n_out:** Number of observations as output (y). Values may be between [0..len(data)-1]. Optional. \n",
    "* **dropnan:** Boolean whether or not to drop rows with NaN values. Optional.  \n",
    "\n",
    "* **return:** df of series framed for supervised learning\n"
   ]
  },
  {
   "cell_type": "code",
   "execution_count": 95,
   "metadata": {},
   "outputs": [],
   "source": [
    "def series_to_supervised(data, n_in=1, n_out=1, dropnan=True):\n",
    "\t\"\"\"\n",
    "\tFrame a time series as a supervised learning dataset.\n",
    "\tArguments:\n",
    "\t\tdata: Sequence of observations as a list or NumPy array.\n",
    "\t\tn_in: Number of lag observations as input (X).\n",
    "\t\tn_out: Number of observations as output (y).\n",
    "\t\tdropnan: Boolean whether or not to drop rows with NaN values.\n",
    "\tReturns:\n",
    "\t\tPandas DataFrame of series framed for supervised learning.\n",
    "\t\"\"\"\n",
    "\tn_vars = 1 if type(data) is list else data.shape[1]\n",
    "\tdf = pd.DataFrame(data)\n",
    "\tcols, names = list(), list()\n",
    "\t# input sequence (t-n, ... t-1)\n",
    "\tfor i in range(n_in, 0, -1):\n",
    "\t\tcols.append(df.shift(i))\n",
    "\t\tnames += [('var%d(t-%d)' % (j+1, i)) for j in range(n_vars)]\n",
    "\t# forecast sequence (t, t+1, ... t+n)\n",
    "\tfor i in range(0, n_out):\n",
    "\t\tcols.append(df.shift(-i))\n",
    "\t\tif i == 0:\n",
    "\t\t\tnames += [('var%d(t)' % (j+1)) for j in range(n_vars)]\n",
    "\t\telse:\n",
    "\t\t\tnames += [('var%d(t+%d)' % (j+1, i)) for j in range(n_vars)]\n",
    "\t# put it all together\n",
    "\tagg = pd.concat(cols, axis=1)\n",
    "\tagg.columns = names\n",
    "\t# drop rows with NaN values\n",
    "\tif dropnan:\n",
    "\t\tagg.dropna(inplace=True)\n",
    "\treturn agg"
   ]
  },
  {
   "cell_type": "code",
   "execution_count": 96,
   "metadata": {},
   "outputs": [
    {
     "name": "stdout",
     "output_type": "stream",
     "text": [
      "[0.1, 1.8, 2.2, 3.6, 4.3, 5.5, 6.5, 7.1, 8.4, 9.8]\n"
     ]
    }
   ],
   "source": [
    "# Univariate sample\n",
    "values = np.around(np.random.default_rng().random(10) + np.arange(0,10), 1)\n",
    "values = list(values)\n",
    "print(values)"
   ]
  },
  {
   "cell_type": "code",
   "execution_count": 97,
   "metadata": {},
   "outputs": [
    {
     "name": "stdout",
     "output_type": "stream",
     "text": [
      "   var1(t-1)  var1(t)\n",
      "1        0.1      1.8\n",
      "2        1.8      2.2\n",
      "3        2.2      3.6\n",
      "4        3.6      4.3\n",
      "5        4.3      5.5\n",
      "6        5.5      6.5\n",
      "7        6.5      7.1\n",
      "8        7.1      8.4\n",
      "9        8.4      9.8\n"
     ]
    }
   ],
   "source": [
    "# Example of a t-1 (lagged) df, framed to predict the current time (t)\n",
    "print(series_to_supervised(values))"
   ]
  },
  {
   "cell_type": "code",
   "execution_count": 98,
   "metadata": {},
   "outputs": [
    {
     "name": "stdout",
     "output_type": "stream",
     "text": [
      "   var1(t-2)  var1(t-1)  var1(t)\n",
      "2        0.1        1.8      2.2\n",
      "3        1.8        2.2      3.6\n",
      "4        2.2        3.6      4.3\n",
      "5        3.6        4.3      5.5\n",
      "6        4.3        5.5      6.5\n",
      "7        5.5        6.5      7.1\n",
      "8        6.5        7.1      8.4\n",
      "9        7.1        8.4      9.8\n"
     ]
    }
   ],
   "source": [
    "# Example t-3 lagged sequence\n",
    "print(series_to_supervised(values, n_in=2))"
   ]
  },
  {
   "cell_type": "markdown",
   "metadata": {},
   "source": [
    "### Multi-Step or Sequence Forecasting\n",
    "\n",
    "**Sequence | Multi-step forecasting:** Use of past observations to forecast furture observations.\n",
    "\n"
   ]
  },
  {
   "cell_type": "code",
   "execution_count": 99,
   "metadata": {},
   "outputs": [
    {
     "name": "stdout",
     "output_type": "stream",
     "text": [
      "   var1(t-2)  var1(t-1)  var1(t)  var1(t+1)\n",
      "2        0.1        1.8      2.2        3.6\n",
      "3        1.8        2.2      3.6        4.3\n",
      "4        2.2        3.6      4.3        5.5\n",
      "5        3.6        4.3      5.5        6.5\n",
      "6        4.3        5.5      6.5        7.1\n",
      "7        5.5        6.5      7.1        8.4\n",
      "8        6.5        7.1      8.4        9.8\n"
     ]
    }
   ],
   "source": [
    "# A sequence of 2 past observations to forecast 2 future observations \n",
    "print(series_to_supervised(values, n_in=2, n_out=2) )"
   ]
  },
  {
   "cell_type": "markdown",
   "metadata": {},
   "source": [
    "### Multivariate Forecasting"
   ]
  },
  {
   "cell_type": "code",
   "execution_count": 103,
   "metadata": {},
   "outputs": [
    {
     "name": "stdout",
     "output_type": "stream",
     "text": [
      "   ob1   ob2\n",
      "0  0.1  50.7\n",
      "1  1.8  51.3\n",
      "2  2.2  52.2\n",
      "3  3.1  53.5\n",
      "4  4.8  54.2\n",
      "5  5.5  55.8\n",
      "6  6.9  56.1\n",
      "7  7.8  57.5\n",
      "8  8.2  58.3\n",
      "9  9.2  59.5\n"
     ]
    }
   ],
   "source": [
    "# Multivariate sample\n",
    "values = pd.DataFrame()\n",
    "values['ob1'] = np.around(np.random.default_rng().random(10) + np.arange(0,10), 1)\n",
    "values['ob2'] = np.around(np.random.default_rng().random(10) + np.arange(50,60), 1)\n",
    "print(values)"
   ]
  },
  {
   "cell_type": "code",
   "execution_count": 104,
   "metadata": {},
   "outputs": [
    {
     "name": "stdout",
     "output_type": "stream",
     "text": [
      "   var1(t-1)  var2(t-1)  var1(t)  var2(t)\n",
      "1        0.1       50.7      1.8     51.3\n",
      "2        1.8       51.3      2.2     52.2\n",
      "3        2.2       52.2      3.1     53.5\n",
      "4        3.1       53.5      4.8     54.2\n",
      "5        4.8       54.2      5.5     55.8\n",
      "6        5.5       55.8      6.9     56.1\n",
      "7        6.9       56.1      7.8     57.5\n",
      "8        7.8       57.5      8.2     58.3\n",
      "9        8.2       58.3      9.2     59.5\n"
     ]
    }
   ],
   "source": [
    "# Example of a t-1 (lagged) df, framed to predict the current time (t)\n",
    "print(series_to_supervised(values.values))"
   ]
  },
  {
   "cell_type": "code",
   "execution_count": 105,
   "metadata": {},
   "outputs": [
    {
     "name": "stdout",
     "output_type": "stream",
     "text": [
      "   var1(t-1)  var2(t-1)  var1(t)  var2(t)  var1(t+1)  var2(t+1)\n",
      "1        0.1       50.7      1.8     51.3        2.2       52.2\n",
      "2        1.8       51.3      2.2     52.2        3.1       53.5\n",
      "3        2.2       52.2      3.1     53.5        4.8       54.2\n",
      "4        3.1       53.5      4.8     54.2        5.5       55.8\n",
      "5        4.8       54.2      5.5     55.8        6.9       56.1\n",
      "6        5.5       55.8      6.9     56.1        7.8       57.5\n",
      "7        6.9       56.1      7.8     57.5        8.2       58.3\n",
      "8        7.8       57.5      8.2     58.3        9.2       59.5\n"
     ]
    }
   ],
   "source": [
    "# Example of a reframed df with 1 time step as input and 2 time steps as forecast sequence.\n",
    "print(series_to_supervised(values.values, 1, 2))"
   ]
  }
 ],
 "metadata": {
  "kernelspec": {
   "display_name": "Python 3 (ipykernel)",
   "language": "python",
   "name": "python3"
  },
  "language_info": {
   "codemirror_mode": {
    "name": "ipython",
    "version": 3
   },
   "file_extension": ".py",
   "mimetype": "text/x-python",
   "name": "python",
   "nbconvert_exporter": "python",
   "pygments_lexer": "ipython3",
   "version": "3.10.4"
  },
  "vscode": {
   "interpreter": {
    "hash": "e53c50b4194f4b0e3add884190a748f328d905ef67057fbe30938be3a2bcbd7d"
   }
  }
 },
 "nbformat": 4,
 "nbformat_minor": 2
}
